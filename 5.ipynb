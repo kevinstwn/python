{
  "nbformat": 4,
  "nbformat_minor": 0,
  "metadata": {
    "colab": {
      "provenance": []
    },
    "kernelspec": {
      "name": "python3",
      "display_name": "Python 3"
    },
    "language_info": {
      "name": "python"
    }
  },
  "cells": [
    {
      "cell_type": "code",
      "execution_count": null,
      "metadata": {
        "id": "M_Xskqw6R2Cd"
      },
      "outputs": [],
      "source": [
        "import numpy as np\n",
        "x = [0, 0.1, 0.2, 0.3, 0.4]\n",
        "h = x[1] - x[0]\n",
        "f = [1, 0.9975, 0.99, 0.9776, 0.8604]"
      ]
    },
    {
      "cell_type": "code",
      "source": [
        "def trapezoid(x0, xn, n):\n",
        "\n",
        "  trapezoid =  f[0]+f[4]+2*np.sum(f[1:4])\n",
        "  trapezoid = trapezoid*h/2\n",
        "\n",
        "  return trapezoid\n",
        "res_trapezoid = trapezoid(x[0], x[4], 4)\n",
        "print('Numerical Integration trapezoid rule is %.4f' % res_trapezoid)"
      ],
      "metadata": {
        "colab": {
          "base_uri": "https://localhost:8080/"
        },
        "id": "yfoQlgYOR32W",
        "outputId": "3919774c-1c3f-4682-c12a-c162edf1c86c"
      },
      "execution_count": null,
      "outputs": [
        {
          "output_type": "stream",
          "name": "stdout",
          "text": [
            "Numerical Integration trapezoid rule is 0.3895\n"
          ]
        }
      ]
    },
    {
      "cell_type": "code",
      "source": [
        "def simpson13(x0,xn,n):\n",
        "\n",
        "    simpson13 = f[0]+f[4]+4*(f[1]+f[3])+2*(f[2])\n",
        "    simpson13 = simpson13*1*h/3\n",
        "\n",
        "    return simpson13\n",
        "res_simp13 = simpson13(x[0], x[4], 4)\n",
        "print('Numerical Integration with simpson 1/3 rule is %.4f' % res_simp13)"
      ],
      "metadata": {
        "colab": {
          "base_uri": "https://localhost:8080/"
        },
        "id": "6XFagB1DR5_7",
        "outputId": "f05938c7-e45f-42ae-cdb4-94b8e65ccff0"
      },
      "execution_count": null,
      "outputs": [
        {
          "output_type": "stream",
          "name": "stdout",
          "text": [
            "Numerical Integration with simpson 1/3 rule is 0.3914\n"
          ]
        }
      ]
    },
    {
      "cell_type": "code",
      "source": [
        "def simpson38(x0,xn,n):\n",
        "\n",
        "    simpson38 = f[0]+f[4]+3*(f[1]+f[2])+2*(f[3])\n",
        "    simpson38 = simpson38*3*h/8\n",
        "\n",
        "    return simpson38\n",
        "res_simp38 = simpson38(x[0], x[4], 4)\n",
        "print(\"Integration result by Simpson's 3/8 method is %0.4f\" % res_simp38)"
      ],
      "metadata": {
        "colab": {
          "base_uri": "https://localhost:8080/"
        },
        "id": "VqB7yKXlR7WJ",
        "outputId": "3e37585e-d374-40f2-a60f-ff7ddbd9f863"
      },
      "execution_count": null,
      "outputs": [
        {
          "output_type": "stream",
          "name": "stdout",
          "text": [
            "Integration result by Simpson's 3/8 method is 0.3667\n"
          ]
        }
      ]
    }
  ]
}