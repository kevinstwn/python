{
  "nbformat": 4,
  "nbformat_minor": 0,
  "metadata": {
    "colab": {
      "provenance": []
    },
    "kernelspec": {
      "name": "python3",
      "display_name": "Python 3"
    },
    "language_info": {
      "name": "python"
    }
  },
  "cells": [
    {
      "cell_type": "code",
      "execution_count": null,
      "metadata": {
        "id": "MWzLFGMz23Je"
      },
      "outputs": [],
      "source": [
        "import numpy as np"
      ]
    },
    {
      "cell_type": "code",
      "source": [
        "equation = [\n",
        "            [6, 3, -2],\n",
        "            [2, 7, 3],\n",
        "            [7, -5, 15]\n",
        "]\n",
        "#diagonally dominant\n",
        "diagonal = np.diag(np.abs(equation))\n",
        "\n",
        "sum = np.sum(np.abs(equation), axis=1) - diagonal\n",
        "\n",
        "if np.all(diagonal > sum):\n",
        "  print(\"Matrix is diagonally dominant\")\n",
        "else:\n",
        "  print(\"Matrix is not diagonally dominant\")"
      ],
      "metadata": {
        "colab": {
          "base_uri": "https://localhost:8080/"
        },
        "id": "uuEOmITJ7SmC",
        "outputId": "78aba958-2f3e-4d4d-e6b3-4f38cbbd5baf"
      },
      "execution_count": null,
      "outputs": [
        {
          "output_type": "stream",
          "name": "stdout",
          "text": [
            "Matrix is diagonally dominant\n"
          ]
        }
      ]
    },
    {
      "cell_type": "code",
      "source": [
        "a = 0\n",
        "b = 0\n",
        "c = 0\n",
        "epsilon = 0.001\n",
        "\n",
        "old = np.array([a,b,c])\n",
        "\n",
        "for k in range(1,30):\n",
        "  a = (15 - 3*b- 2*c) / 6\n",
        "  b = (6 - 2*a - 3*c) / 7\n",
        "  c = (12- 7*a + 5*b) / 15\n",
        "\n",
        "  x = np.array([a,b,c])\n",
        "  dx = np.sqrt(np.dot(x-old,x-old)) #margin error\n",
        "\n",
        "  print(\"%d, %.4f, %.4f, %.4f\"%(k,a,b,c))\n",
        "  old = x\n",
        "  if dx < epsilon:\n",
        "    print(\"Convergent\")\n",
        "    break\n",
        ""
      ],
      "metadata": {
        "colab": {
          "base_uri": "https://localhost:8080/"
        },
        "id": "bbhndqpG-Au0",
        "outputId": "33580794-918c-4212-8a95-93b685d5295a"
      },
      "execution_count": null,
      "outputs": [
        {
          "output_type": "stream",
          "name": "stdout",
          "text": [
            "1, 2.5000, 0.1429, -0.3190\n",
            "2, 2.5349, 0.2696, -0.2931\n",
            "3, 2.4629, 0.2791, -0.2563\n",
            "4, 2.4459, 0.2682, -0.2520\n",
            "5, 2.4499, 0.2652, -0.2549\n",
            "6, 2.4524, 0.2657, -0.2559\n",
            "7, 2.4524, 0.2661, -0.2558\n",
            "Convergent\n"
          ]
        }
      ]
    },
    {
      "cell_type": "code",
      "source": [
        "#Least Square Regression\n",
        "import matplotlib.pyplot as plt\n",
        "\n",
        "x = np.array([1,2,4,7,9,10,11])\n",
        "y = np.array([3,5,4,2,6,7,10])\n",
        "m = 0.46556\n",
        "b = 2.35928\n",
        "\n",
        "A = np.vstack([x, np.ones(len(x))]).T\n",
        "\n",
        "y = y[:, np.newaxis]\n",
        "y\n",
        "al = np.dot(A.T, A) #ATA\n",
        "al = np.linalg.inv(al) #(ATA)-1\n",
        "al = np.dot(al, A.T) #(ATA)-1AT\n",
        "al = np.dot(al,y) #(ATA)-1ATy\n",
        "al\n",
        "plt.plot(x,y,\"r.\")\n",
        "#plt.plot(x, m*x + b, \"b\")\n",
        "plt.plot(x, al[0]*x + al[1], \"b\")\n",
        "plt.show\n"
      ],
      "metadata": {
        "colab": {
          "base_uri": "https://localhost:8080/",
          "height": 282
        },
        "id": "J28MlFmLFgG_",
        "outputId": "06a129b8-6f40-44ec-f301-5ece8d17970c"
      },
      "execution_count": null,
      "outputs": [
        {
          "output_type": "execute_result",
          "data": {
            "text/plain": [
              "<function matplotlib.pyplot.show>"
            ]
          },
          "metadata": {},
          "execution_count": 36
        },
        {
          "output_type": "display_data",
          "data": {
            "text/plain": [
              "<Figure size 432x288 with 1 Axes>"
            ],
            "image/png": "[encoded data removed]"
          },
          "metadata": {
            "needs_background": "light"
          }
        }
      ]
    },
    {
      "cell_type": "code",
      "source": [],
      "metadata": {
        "id": "xKi-_XJSJXk4"
      },
      "execution_count": null,
      "outputs": []
    }
  ]
}