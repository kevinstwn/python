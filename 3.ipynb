{
  "nbformat": 4,
  "nbformat_minor": 0,
  "metadata": {
    "colab": {
      "provenance": []
    },
    "kernelspec": {
      "name": "python3",
      "display_name": "Python 3"
    },
    "language_info": {
      "name": "python"
    }
  },
  "cells": [
    {
      "cell_type": "code",
      "execution_count": null,
      "metadata": {
        "colab": {
          "base_uri": "https://localhost:8080/"
        },
        "id": "u0hBCDNmeT1j",
        "outputId": "64dbac47-b437-4dc6-e345-bec3f4d95330"
      },
      "outputs": [
        {
          "output_type": "stream",
          "name": "stdout",
          "text": [
            "Iteration of new root:  2.178451178451178\n",
            "Iteration of new root:  1.5640417683044854\n",
            "Iteration of new root:  1.0995002914426433\n",
            "Iteration of new root:  0.7318053336637942\n",
            "Iteration of new root:  0.38620020486580725\n",
            "Iteration of new root:  -0.2888869403659183\n",
            "Iteration of new root:  -1.9756595211941144\n",
            "Iteration of new root:  -1.6618323514004893\n",
            "Iteration of new root:  -1.4522757696928748\n",
            "Iteration of new root:  -1.3241279935115182\n",
            "Iteration of new root:  -1.258470415978689\n",
            "The root of the equation is: -1.2364636704049792\n"
          ]
        }
      ],
      "source": [
        "import numpy as np\n",
        "\n",
        "def f(x0):\n",
        "  return 2*x0**4 + 3*x0**3 + 1\n",
        "\n",
        "def g(x0):\n",
        "  return 8*x0**3 + 9*x0**2\n",
        "\n",
        "def newton_rhapson(x0,tol):\n",
        "  x1 = x0 - (f(x0) / g(x0))\n",
        "\n",
        "  if (np.abs(f(x1))<tol):\n",
        "    print(\"The root of the equation is:\", x1)\n",
        "    return\n",
        "  else:\n",
        "    print(\"Iteration of new root: \", x1)\n",
        "    return newton_rhapson(x1,tol)\n",
        "\n",
        "newton_rhapson(3, 0.0200)"
      ]
    },
    {
      "cell_type": "code",
      "source": [
        "import numpy as np\n",
        "\n",
        "def f(x):\n",
        "  return 7**3 + 2**2 + 9\n",
        "\n",
        "def bisection_method(a,b,tolerance = 0.0020):\n",
        "  if(np.sign(f(a))== np.sign(f(b))):\n",
        "    print(\"not bound a root\")\n",
        "    return\n",
        "  mid = (a+b)/2\n",
        "\n",
        "  if(np.abs(f(mid))<tolerance):\n",
        "    print(\"root found =\", mid)\n",
        "    return\n",
        "  elif(np.sign(f(mid))== np.sign(f(a))):\n",
        "    return bisection_method(mid, b)\n",
        "  elif(np.sign(f(mid))== np.sign(f(b))):\n",
        "    return bisection_method(a, mid)\n",
        "\n",
        "print(\"coordinate a = 3 and b = 7\")\n",
        "bisection_method(3, 7)\n",
        "print(\"coordinate a = 5 and b = -1\")\n",
        "bisection_method(5, -1)\n",
        "print(\"coordinate a = -2 and b = 4\")\n",
        "bisection_method(-2, 4)\n",
        "print(\"coordinate a = -2 and b = 6\")\n",
        "bisection_method(-2, 6 )\n",
        "print(\"coordinate a = 1 and b = -9\")\n",
        "bisection_method(1, -9)\n",
        "\n",
        "\n"
      ],
      "metadata": {
        "colab": {
          "base_uri": "https://localhost:8080/"
        },
        "id": "Ygizfe--fw1j",
        "outputId": "74a95002-a7cf-4ef3-ebd2-dbce685c0755"
      },
      "execution_count": null,
      "outputs": [
        {
          "output_type": "stream",
          "name": "stdout",
          "text": [
            "coordinate a = 3 and b = 7\n",
            "not bound a root\n",
            "coordinate a = 5 and b = -1\n",
            "not bound a root\n",
            "coordinate a = -2 and b = 4\n",
            "not bound a root\n",
            "coordinate a = -2 and b = 6\n",
            "not bound a root\n",
            "coordinate a = 1 and b = -9\n",
            "not bound a root\n"
          ]
        }
      ]
    },
    {
      "cell_type": "code",
      "source": [
        "import numpy as np\n",
        "\n",
        "a = 2\n",
        "b = 3\n",
        "n = 25\n",
        "h = (b-a)/(n-1)\n",
        "\n",
        "x= np.linspace(a, b, n)\n",
        "f= 2*x**3 + 7*x\n",
        "\n",
        "riemannKiri = h * sum(f[:n-1])\n",
        "erriemannKiri = 2 - riemannKiri\n",
        "riemannKanan = h * sum(f[1::])\n",
        "erriemannKanan = 2 - riemannKanan\n",
        "\n",
        "print(\"Left Riemann : \", riemannKiri)\n",
        "print(\"Right Riemann : \", riemannKanan)"
      ],
      "metadata": {
        "colab": {
          "base_uri": "https://localhost:8080/"
        },
        "id": "vXpVmiOojyuX",
        "outputId": "2da5b262-9283-4ddb-8639-ec4ffa3d92fa"
      },
      "execution_count": null,
      "outputs": [
        {
          "output_type": "stream",
          "name": "stdout",
          "text": [
            "Left Riemann :  49.06684027777778\n",
            "Right Riemann :  50.94184027777777\n"
          ]
        }
      ]
    }
  ]
}